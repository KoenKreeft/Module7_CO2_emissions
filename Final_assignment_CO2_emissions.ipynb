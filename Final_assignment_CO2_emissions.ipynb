{
  "nbformat": 4,
  "nbformat_minor": 0,
  "metadata": {
    "colab": {
      "provenance": []
    },
    "kernelspec": {
      "name": "python3",
      "display_name": "Python 3"
    },
    "language_info": {
      "name": "python"
    }
  },
  "cells": [
    {
      "cell_type": "code",
      "execution_count": 174,
      "metadata": {
        "id": "EIfkle2BpQfT"
      },
      "outputs": [],
      "source": [
        "import pandas as pd\n",
        "import seaborn as sns\n",
        "import matplotlib.pyplot as plt\n",
        "import matplotlib.ticker as ticker\n",
        "import numpy as np"
      ]
    },
    {
      "cell_type": "code",
      "source": [
        "from google.colab import drive\n",
        "drive.mount ('/content/drive')"
      ],
      "metadata": {
        "id": "yTmD1Llp8KKQ"
      },
      "execution_count": null,
      "outputs": []
    },
    {
      "cell_type": "code",
      "source": [
        "%load_ext google.colab.data_table"
      ],
      "metadata": {
        "id": "gVMBts448LpM"
      },
      "execution_count": null,
      "outputs": []
    },
    {
      "cell_type": "code",
      "source": [
        "# 1. What is the biggest predictor of a large CO2 output per capita of a country?"
      ],
      "metadata": {
        "id": "wJx3YChcpbg-"
      },
      "execution_count": 177,
      "outputs": []
    },
    {
      "cell_type": "code",
      "source": [
        "# Load dataframe1\n",
        "co2_emission = pd.read_csv(\"/content/drive/MyDrive/RawData/co-emissions-per-capita.csv\", encoding='latin-1')\n",
        "co2_emission"
      ],
      "metadata": {
        "id": "FaDkrVxm8QZE"
      },
      "execution_count": null,
      "outputs": []
    },
    {
      "cell_type": "code",
      "source": [
        "# Load dataframe2\n",
        "GDP = pd.read_csv(\"/content/drive/MyDrive/RawData/gdp-per-capita-worldbank.csv\", encoding='latin-1')\n",
        "GDP"
      ],
      "metadata": {
        "id": "Vahoz0Yq9Now"
      },
      "execution_count": null,
      "outputs": []
    },
    {
      "cell_type": "code",
      "source": [
        "# Load dataframe3\n",
        "green_consumption = pd.read_csv(\"/content/drive/MyDrive/RawData/share-of-final-energy-consumption-from-renewable-sources.csv\", encoding='latin-1')\n",
        "green_consumption"
      ],
      "metadata": {
        "id": "8XTa5B4VDVHG"
      },
      "execution_count": null,
      "outputs": []
    },
    {
      "cell_type": "code",
      "source": [
        "# Load dataframe4\n",
        "transport = pd.read_csv(\"/content/drive/MyDrive/RawData/per-capita-co2-transport.csv\", encoding='latin-1')\n",
        "transport"
      ],
      "metadata": {
        "id": "SaZblKb7bqWF"
      },
      "execution_count": null,
      "outputs": []
    },
    {
      "cell_type": "code",
      "source": [
        "# Load dataframe5\n",
        "green_sources = pd.read_csv(\"/content/drive/MyDrive/RawData/share-of-electricity-production-from-renewable-sources.csv\", encoding='latin-1')\n",
        "green_sources"
      ],
      "metadata": {
        "id": "o67t6Y2v0o8Z"
      },
      "execution_count": null,
      "outputs": []
    },
    {
      "cell_type": "code",
      "source": [
        "# Merge dataframes\n",
        "merged_df = pd.merge(co2_emission, GDP, on=['Entity', 'Year', 'Code'])\n",
        "merged_df = pd.merge(merged_df, green_consumption, on=['Entity', 'Year', 'Code'])\n",
        "merged_df = pd.merge(merged_df, transport, on=['Entity', 'Year', 'Code'])\n",
        "merged_df = pd.merge(merged_df, green_sources, on=['Entity', 'Year', 'Code'])\n",
        "merged_df"
      ],
      "metadata": {
        "id": "XSmHeVWoApSL"
      },
      "execution_count": null,
      "outputs": []
    },
    {
      "cell_type": "code",
      "source": [
        "# Rename columnnames\n",
        "merged_df.rename(columns={'Annual COâ emissions (per capita)': 'CO2 emissions per capita'}, inplace=True)\n",
        "merged_df.rename(columns={'GDP per capita, PPP (constant 2017 international $)': 'GDP per capita'}, inplace=True)\n",
        "merged_df.rename(columns={'7.2.1 - Renewable energy share in the total final energy consumption (%) - EG_FEC_RNEW': 'Renewable energy share'}, inplace=True)\n",
        "merged_df.rename(columns={'Per capita carbon dioxide emissions from transport': 'CO2 emission from transport'}, inplace=True)\n",
        "merged_df.rename(columns={'Renewable electricity (% electricity production) (World Bank (2015))': 'Renewable production'}, inplace=True)\n",
        "merged_df"
      ],
      "metadata": {
        "id": "eUrJffD-KCku"
      },
      "execution_count": null,
      "outputs": []
    },
    {
      "cell_type": "code",
      "source": [
        "# Select a list of the 25 largest countries in the world by gross domestic product (GDP)\n",
        "selected_countries = ['United States','China','Japan','Germany','India','France','United Kingdom','Brazil','Italy','Canada','South Korea','Australia','Spain','Mexico','Indonesia','Netherlands','Russia','Switzerland','Saudi Arabia','Turkey','Argentina','Taiwan','Sweden','Poland','Belgium','Thailand']\n",
        "filtered_df = merged_df[merged_df['Entity'].isin(selected_countries)]\n",
        "filtered_df"
      ],
      "metadata": {
        "id": "em2kfAzMFxJn"
      },
      "execution_count": null,
      "outputs": []
    },
    {
      "cell_type": "code",
      "source": [
        "# To answer the question I have made a selection of the largest countries in the world based on GNP. After this, I looked at different data in descending order.\n",
        "# The most important thing is to see which of the 25 countries have the most CO2 emissions per capita.\n",
        "# After this, I looked at various factors such as transport, GDP per capita, the generation of electricity from green sources and then the use of electricity from renewable sources.\n",
        "# I also made a top 5 each time to see what conclusion I can make from the different data.\n",
        "# If we look at the countries with the most CO2 emissions per capita, namely: the United States, Australia, Canada, Saudi Arabia and South Korea, I can always see which countries are or are not in the following top 5 lists.\n",
        "# From this I can conclude that transport is a very important factor in total CO2 emissions. Four out of five countries are in the top 5 for total CO2 emissions per capita and CO2 emissions from transport.\n",
        "# It is also striking that a high score in GNP per capita does not necessarily mean that CO2 emissions in a country score high.\n",
        "# Only one country appears in the top 5, which is also in the top 5 of countries with the highest CO2 emissions.\n",
        "# Finally, it can be concluded from the data that when a country produces a lot of renewable electricity itself or imports and consumes renewable electricity in its total use, except for one country, it does not appear in the top 5 of countries with the highest CO2 emissions.\n",
        "# So a country will emit less CO2 if it generates a lot of green energy itself or consumes a lot of green energy in the total energy mix.\n",
        "\n",
        "# Check if there are still rows left in the DataFrame\n",
        "if not filtered_df.empty:\n",
        "    # Set the style for the plots\n",
        "    sns.set(style=\"whitegrid\")\n",
        "\n",
        "    # Define the desired order of variables\n",
        "    desired_order = ['CO2 emissions per capita', 'CO2 emission from transport', 'GDP per capita', 'Renewable production', 'Renewable energy share']\n",
        "\n",
        "    # Create subplots with a larger figuresize for the original line plots\n",
        "    fig, axes = plt.subplots(nrows=len(desired_order), ncols=1, figsize=(20, 12 * len(desired_order)))\n",
        "\n",
        "    # Plot each variable in the specified order\n",
        "    for i, variable in enumerate(desired_order):\n",
        "        sorted_df = filtered_df.sort_values(by=variable, ascending=False)\n",
        "        sns.lineplot(x='Year', y=variable, data=sorted_df, ax=axes[i], hue='Entity', palette='deep', linewidth=2)\n",
        "        axes[i].set_ylabel(variable)\n",
        "        axes[i].set_xlabel('Year')  # Set x-axis label to 'Year'\n",
        "        axes[i].set_title(f'{variable} over time')\n",
        "\n",
        "        # Rotate x-axis labels for better readability\n",
        "        axes[i].tick_params(axis='x', rotation=45)\n",
        "\n",
        "        # Set x-axis ticks with steps of 5 years\n",
        "        axes[i].xaxis.set_major_locator(ticker.MultipleLocator(base=5))\n",
        "\n",
        "        # Adjust xlim to increase space on both sides\n",
        "        axes[i].set_xlim(sorted_df['Year'].min() - 0, sorted_df['Year'].max() + 2)\n",
        "\n",
        "    # Manually adjust space between subplots\n",
        "    plt.subplots_adjust(hspace=0.5)\n",
        "\n",
        "    # Set layout for the original line plots\n",
        "    plt.show()\n",
        "\n",
        "    # Create 5 new plots for the top 5 countries vertically with wider figures\n",
        "    fig_top5, axes_top5 = plt.subplots(nrows=len(desired_order), ncols=1, figsize=(20, 12 * len(desired_order)))\n",
        "\n",
        "    # Plot top 5 countries for each variable\n",
        "    for i, variable in enumerate(desired_order):\n",
        "        # Group by 'Entity' and calculate the mean for each country\n",
        "        top10_df = filtered_df.groupby('Entity')[variable].mean().reset_index().nlargest(5, columns=variable)\n",
        "\n",
        "        # Plot the top 5 countries vertically with wider figures\n",
        "        sns.barplot(x='Entity', y=variable, data=top10_df, ax=axes_top5[i], palette='deep')\n",
        "\n",
        "        # Set axis labels and title\n",
        "        axes_top5[i].set_ylabel(variable)\n",
        "        axes_top5[i].set_xlabel('Country')\n",
        "        axes_top5[i].set_title(f'Top 5 {variable}')\n",
        "\n",
        "    # Manually adjust space between subplots for the top 5 plots\n",
        "    plt.subplots_adjust(hspace=0.5)\n",
        "\n",
        "    # Set layout for the top 5 plots\n",
        "    plt.show()"
      ],
      "metadata": {
        "id": "tFRGy19b_rtH"
      },
      "execution_count": null,
      "outputs": []
    },
    {
      "cell_type": "code",
      "source": [
        "# 2. Which countries are making the biggest strides in decreasing CO2 output?"
      ],
      "metadata": {
        "id": "QRyMwnduvshR"
      },
      "execution_count": 187,
      "outputs": []
    },
    {
      "cell_type": "code",
      "source": [
        "# Load dataframe1\n",
        "co2_emission = pd.read_csv(\"/content/drive/MyDrive/RawData/annual-co2-emissions-per-country.csv\", encoding='latin-1')\n",
        "co2_emission"
      ],
      "metadata": {
        "id": "8AsAIg3oTqsh"
      },
      "execution_count": null,
      "outputs": []
    },
    {
      "cell_type": "code",
      "source": [
        "# Rename columnname\n",
        "co2_emission.rename(columns={'Annual COâ emissions': 'CO2 emissions','Entity': 'Country'}, inplace=True)\n",
        "co2_emission"
      ],
      "metadata": {
        "id": "0_28NMEbUTpH"
      },
      "execution_count": null,
      "outputs": []
    },
    {
      "cell_type": "code",
      "source": [
        "# Create list of countries\n",
        "country_list = [\"Afghanistan\", \"Albania\", \"Algeria\", \"Andorra\", \"Angola\", \"Antigua and Barbuda\", \"Argentina\", \"Armenia\", \"Australia\", \"Austria\", \"Azerbaijan\", \"Bahamas\", \"Bahrain\", \"Bangladesh\", \"Barbados\", \"Belarus\", \"Belgium\", \"Belize\", \"Benin\", \"Bhutan\", \"Bolivia\", \"Bosnia and Herzegovina\", \"Botswana\", \"Brazil\", \"Brunei\", \"Bulgaria\", \"Burkina Faso\", \"Burundi\", \"Cabo Verde\", \"Cambodia\", \"Cameroon\", \"Canada\", \"Central African Republic\", \"Chad\", \"Chile\", \"China\", \"Colombia\", \"Comoros\", \"Congo\", \"Costa Rica\", \"Croatia\", \"Cuba\", \"Cyprus\", \"Czech Republic\", \"Denmark\", \"Djibouti\", \"Dominica\", \"Dominican Republic\", \"East Timor (Timor-Leste)\", \"Ecuador\", \"Egypt\", \"El Salvador\", \"Equatorial Guinea\", \"Eritrea\", \"Estonia\", \"Eswatini\", \"Ethiopia\", \"Fiji\", \"Finland\", \"France\", \"Gabon\", \"Gambia\", \"Georgia\", \"Germany\", \"Ghana\", \"Greece\", \"Grenada\", \"Guatemala\", \"Guinea\", \"Guinea-Bissau\", \"Guyana\", \"Haiti\", \"Honduras\", \"Hungary\", \"Iceland\", \"India\", \"Indonesia\", \"Iran\", \"Iraq\", \"Ireland\", \"Israel\", \"Italy\", \"Ivory Coast\", \"Jamaica\", \"Japan\", \"Jordan\", \"Kazakhstan\", \"Kenya\", \"Kiribati\", \"Korea, North\", \"Korea, South\", \"Kosovo\", \"Kuwait\", \"Kyrgyzstan\", \"Laos\", \"Latvia\", \"Lebanon\", \"Lesotho\", \"Liberia\", \"Libya\", \"Liechtenstein\", \"Lithuania\", \"Luxembourg\", \"Madagascar\", \"Malawi\", \"Malaysia\", \"Maldives\", \"Mali\", \"Malta\", \"Marshall Islands\", \"Mauritania\", \"Mauritius\", \"Mexico\", \"Micronesia\", \"Moldova\", \"Monaco\", \"Mongolia\", \"Montenegro\", \"Morocco\", \"Mozambique\", \"Myanmar (Burma)\", \"Namibia\", \"Nauru\", \"Nepal\", \"Netherlands\", \"New Zealand\", \"Nicaragua\", \"Niger\", \"Nigeria\", \"North Macedonia\", \"Norway\", \"Oman\", \"Pakistan\", \"Palau\", \"Panama\", \"Papua New Guinea\", \"Paraguay\", \"Peru\", \"Philippines\", \"Poland\", \"Portugal\", \"Qatar\", \"Romania\", \"Russia\", \"Rwanda\", \"Saint Kitts and Nevis\", \"Saint Lucia\", \"Saint Vincent and the Grenadines\", \"Samoa\", \"San Marino\", \"Sao Tome and Principe\", \"Saudi Arabia\", \"Senegal\", \"Serbia\", \"Seychelles\", \"Sierra Leone\", \"Singapore\", \"Slovakia\", \"Slovenia\", \"Solomon Islands\", \"Somalia\", \"South Africa\", \"South Sudan\", \"Spain\", \"Sri Lanka\", \"Sudan\", \"Suriname\", \"Sweden\", \"Switzerland\", \"Syria\", \"Taiwan\", \"Tajikistan\", \"Tanzania\", \"Thailand\", \"Togo\", \"Tonga\", \"Trinidad and Tobago\", \"Tunisia\", \"Turkey\", \"Turkmenistan\", \"Tuvalu\", \"Uganda\", \"Ukraine\", \"United Arab Emirates\", \"United Kingdom\", \"United States\", \"Uruguay\", \"Uzbekistan\", \"Vanuatu\", \"Vatican City\", \"Venezuela\", \"Vietnam\", \"Yemen\", \"Zambia\", \"Zimbabwe\"]"
      ],
      "metadata": {
        "id": "bnfWXGQNFjsU"
      },
      "execution_count": 190,
      "outputs": []
    },
    {
      "cell_type": "code",
      "source": [
        "# Filter only countries and select data from 1940 to present\n",
        "co2_emission_filtered = co2_emission[co2_emission['Country'].isin(country_list) & (co2_emission['Year'] >= 1940) & (co2_emission['Year'] <= 2021)]\n",
        "co2_emission_filtered"
      ],
      "metadata": {
        "id": "Ulwbpx0_Gc5P"
      },
      "execution_count": null,
      "outputs": []
    },
    {
      "cell_type": "code",
      "source": [
        "# Load dataframe2\n",
        "population = pd.read_csv(\"/content/drive/MyDrive/RawData/population-and-demography.csv\", encoding='latin-1')\n",
        "population"
      ],
      "metadata": {
        "id": "KjuiF0bRJDWa"
      },
      "execution_count": null,
      "outputs": []
    },
    {
      "cell_type": "code",
      "source": [
        "# Select columns\n",
        "selected_columns = ['Country name', 'Year', 'Population']\n",
        "population_filtered = population[selected_columns]\n",
        "population_filtered"
      ],
      "metadata": {
        "id": "U1YDRAY6JXG0"
      },
      "execution_count": null,
      "outputs": []
    },
    {
      "cell_type": "code",
      "source": [
        "# Rename columnname\n",
        "population_filtered.rename(columns={'Country name': 'Country'}, inplace=True)\n",
        "population_filtered"
      ],
      "metadata": {
        "id": "JMpye1RfJvof"
      },
      "execution_count": null,
      "outputs": []
    },
    {
      "cell_type": "code",
      "source": [
        "# Merge dataframes\n",
        "merged_data = pd.merge(co2_emission_filtered, population_filtered, on=['Country', 'Year'])\n",
        "merged_data"
      ],
      "metadata": {
        "id": "bsISMeB1LuUy"
      },
      "execution_count": null,
      "outputs": []
    },
    {
      "cell_type": "code",
      "source": [
        "# Add a new column for CO2 emissions per capita\n",
        "merged_data['CO2 per capita'] = merged_data['CO2 emissions'] / merged_data['Population']\n",
        "merged_data"
      ],
      "metadata": {
        "id": "bcGIMH6bMssw"
      },
      "execution_count": null,
      "outputs": []
    },
    {
      "cell_type": "code",
      "source": [
        "# Filter the dataset for the years between 2000 and 2021\n",
        "filtered_data = merged_data[(merged_data['Year'] >= 2000) & (merged_data['Year'] <= 2021)]\n",
        "filtered_data"
      ],
      "metadata": {
        "id": "W6YoEqwPOaON"
      },
      "execution_count": null,
      "outputs": []
    },
    {
      "cell_type": "code",
      "source": [
        "# Calculate the difference in CO2 per capita between 2000 and 2021 per country\n",
        "difference_by_country = filtered_data.groupby('Country')['CO2 per capita'].last() - filtered_data.groupby('Country')['CO2 per capita'].first()\n",
        "difference_by_country"
      ],
      "metadata": {
        "id": "CVSqPVPhWLp5"
      },
      "execution_count": null,
      "outputs": []
    },
    {
      "cell_type": "code",
      "source": [
        "# Calculate the relative change in CO2 per capita (percentage)\n",
        "relative_change_by_country = (difference_by_country / filtered_data.groupby('Country')['CO2 per capita'].first()) * -100\n",
        "relative_change_by_country"
      ],
      "metadata": {
        "id": "zjQVTOQCWNrc"
      },
      "execution_count": null,
      "outputs": []
    },
    {
      "cell_type": "code",
      "source": [
        "# Create a DataFrame of the relative change\n",
        "relative_change_df = pd.DataFrame({'Country': relative_change_by_country.index, 'Relative Change (%)': relative_change_by_country.values})\n",
        "relative_change_df"
      ],
      "metadata": {
        "id": "geGcwsYwWOyc"
      },
      "execution_count": null,
      "outputs": []
    },
    {
      "cell_type": "code",
      "source": [
        "# Sort the results by relative change in descending order and select the top 25\n",
        "top_25_changes_by_country = relative_change_df.sort_values(by='Relative Change (%)', ascending=False).head(25)\n",
        "top_25_changes_by_country"
      ],
      "metadata": {
        "id": "6XbM1WQ6WRJz"
      },
      "execution_count": null,
      "outputs": []
    },
    {
      "cell_type": "code",
      "source": [
        "# To answer the question of which countries have made the biggest steps in limiting CO2 emissions, I looked at the available data on CO2 emissions per capita.\n",
        "# I then looked at a period from 2020 to 2021 and made a selection of the top 25 countries.\n",
        "# Looking at the relative change that has been made since 2020 has provided a clear overview of countries that have made the biggest steps in reducing CO2 emissions per capita.\n",
        "\n",
        "# Plot results\n",
        "plt.figure(figsize=(14, 10))\n",
        "plt.barh(top_25_changes_by_country['Country'], top_25_changes_by_country['Relative Change (%)'], color='green')\n",
        "plt.xlabel('Relative Change in CO2 per Capita (%)')\n",
        "plt.title('Top 25 Countries with Greatest Relative Progress in CO2 per Capita (2020-2021)')\n",
        "plt.yticks(rotation=0)\n",
        "plt.show()"
      ],
      "metadata": {
        "id": "0XIKedJ1WU6E"
      },
      "execution_count": null,
      "outputs": []
    },
    {
      "cell_type": "code",
      "source": [
        "# 3. Which non-fossil fuel energy technology will have the best price in the future?\n",
        "\n",
        "# Because i couldn't find available data with prices of non-fossil fuels, I want to show what is available of current green sources and which source is growing fastest in share of total renewable generation in order to provide insight."
      ],
      "metadata": {
        "id": "unTKn9p1v_wu"
      },
      "execution_count": 203,
      "outputs": []
    },
    {
      "cell_type": "code",
      "source": [
        "# Load dataframe1\n",
        "elec_sources = pd.read_csv(\"/content/drive/MyDrive/RawData/share-elec-by-source.csv\", encoding='latin-1')\n",
        "elec_sources"
      ],
      "metadata": {
        "id": "QMTzMyxIfwD-"
      },
      "execution_count": null,
      "outputs": []
    },
    {
      "cell_type": "code",
      "source": [
        "# Select columns i want to use\n",
        "selected_columns = ['Entity', 'Year', 'Hydro (% electricity)', 'Solar (% electricity)',\n",
        "                    'Wind (% electricity)',\n",
        "                    'Other renewables excluding bioenergy (% electricity)',\n",
        "                    'Bioenergy (% electricity)']\n",
        "\n",
        "# Filter the data where 'Entity' is equal to 'World' and remove NaN values\n",
        "filtered_sources_df = elec_sources[elec_sources['Entity'] == 'World'][selected_columns].dropna()\n",
        "filtered_sources_df"
      ],
      "metadata": {
        "id": "CoSQkw-sjiUj"
      },
      "execution_count": null,
      "outputs": []
    },
    {
      "cell_type": "code",
      "source": [
        "# Convert numerical columns to float\n",
        "for col in selected_columns[2:]:\n",
        "    filtered_sources_df[col] = filtered_sources_df[col].astype(float)\n",
        "\n",
        "# Plot data\n",
        "plt.figure(figsize=(10, 6))\n",
        "\n",
        "for col in selected_columns[2:]:\n",
        "    plt.plot(filtered_sources_df['Year'], filtered_sources_df[col], label=col)\n",
        "\n",
        "plt.xlabel('Year')\n",
        "plt.ylabel('Percentage of Electricity')\n",
        "plt.title('Share of source in total electricity consumption')\n",
        "plt.legend(loc='upper left', bbox_to_anchor=(1, 1))\n",
        "\n",
        "plt.show()"
      ],
      "metadata": {
        "id": "iamC-VhvpMns"
      },
      "execution_count": null,
      "outputs": []
    },
    {
      "cell_type": "code",
      "source": [
        "# Load dataframe2\n",
        "production_volume = pd.read_csv(\"/content/drive/MyDrive/RawData/modern-renewable-prod.csv\", encoding='latin-1')\n",
        "production_volume"
      ],
      "metadata": {
        "id": "UzzEGQ_Pr3tW"
      },
      "execution_count": null,
      "outputs": []
    },
    {
      "cell_type": "code",
      "source": [
        "# Filter the data where 'Entity' is equal to 'World' and remove NaN values\n",
        "filtered_volume_df = production_volume[production_volume['Entity'] == 'World'].dropna()\n",
        "filtered_volume_df"
      ],
      "metadata": {
        "id": "MkgWtjXYbeJQ"
      },
      "execution_count": null,
      "outputs": []
    },
    {
      "cell_type": "code",
      "source": [
        "# Filter the dataset for the years between 2000 and 2021\n",
        "filtered_volume_year_df = filtered_volume_df[(filtered_volume_df['Year'] >= 2000) & (filtered_volume_df['Year'] <= 2021)]\n",
        "filtered_volume_year_df"
      ],
      "metadata": {
        "id": "ifTR-oMkdlYa"
      },
      "execution_count": null,
      "outputs": []
    },
    {
      "cell_type": "code",
      "source": [
        "# Make a copy of the filtered DataFrame\n",
        "filtered_volume_year_df = filtered_volume_year_df.copy()\n",
        "\n",
        "# Add new columns for annual growth by renewable source\n",
        "for column in renewable_columns:\n",
        "    # Create a new column name for annual growth\n",
        "    growth_column_name = f'{column}_growth'\n",
        "\n",
        "    # Calculate the annual growth and add it to the DataFrame\n",
        "    filtered_volume_year_df.loc[:, growth_column_name] = (\n",
        "        filtered_volume_year_df[column].pct_change() * 100\n",
        "    )\n",
        "\n",
        "# Delete the first row (where annual growth is not defined)\n",
        "filtered_volume_year_df = filtered_volume_year_df.dropna()\n",
        "\n",
        "filtered_volume_year_df"
      ],
      "metadata": {
        "id": "YZHg3lqkjUTg"
      },
      "execution_count": null,
      "outputs": []
    },
    {
      "cell_type": "code",
      "source": [
        "# In this graph you will see the annual growth per renewable source. It is clear that solar and wind in particular are growing relatively stably, while hydro is declining.\n",
        "# Even though hydro generates the most volume at the moment. This was visible in the previous graph.\n",
        "# It is difficult to make a statement on the question of which non-fossil fuel will have the best price in the future.\n",
        "# Based on percentage growth, wind and solar would account for an increasing share of total energy consumption in the future.\n",
        "\n",
        "# Select the relevant columns\n",
        "growth_columns = [\n",
        "    'Electricity from wind (TWh)_growth',\n",
        "    'Electricity from hydro (TWh)_growth',\n",
        "    'Electricity from solar (TWh)_growth',\n",
        "    'Other renewables including bioenergy (TWh)_growth'\n",
        "]\n",
        "\n",
        "# Plot the annual growth for each renewable source\n",
        "plt.figure(figsize=(12, 6))\n",
        "\n",
        "for column in growth_columns:\n",
        "    plt.plot(filtered_volume_year_df['Year'], filtered_volume_year_df[column], label=column)\n",
        "\n",
        "plt.title('Annual growth of renewable sources (2000-2021)')\n",
        "plt.xlabel('Year')\n",
        "plt.ylabel('Annual growth (%)')\n",
        "plt.legend()\n",
        "plt.grid(True)\n",
        "plt.show()"
      ],
      "metadata": {
        "id": "qag4lgDNkI0E"
      },
      "execution_count": null,
      "outputs": []
    }
  ]
}